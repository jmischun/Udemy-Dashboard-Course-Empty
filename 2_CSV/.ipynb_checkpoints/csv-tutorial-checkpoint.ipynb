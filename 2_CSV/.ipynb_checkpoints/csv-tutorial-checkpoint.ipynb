{
 "cells": [
  {
   "cell_type": "markdown",
   "metadata": {
    "pycharm": {
     "metadata": false
    }
   },
   "source": [
    "<h2>Working in Data: CSV\n"
   ]
  },
  {
   "cell_type": "markdown",
   "metadata": {
    "pycharm": {
     "metadata": false
    }
   },
   "source": [
    "Creating a loop, for every line within csv_reader print line:"
   ]
  },
  {
   "cell_type": "code",
   "execution_count": 2,
   "metadata": {
    "ExecuteTime": {
     "end_time": "2020-02-29T02:22:25.487108Z",
     "start_time": "2020-02-29T02:22:25.482790Z"
    },
    "pycharm": {
     "is_executing": false
    }
   },
   "outputs": [
    {
     "name": "stdout",
     "output_type": "stream",
     "text": [
      "['Start Date ', 'Start Time', 'End Date', 'End Time', 'Event Title ', 'Event Description', 'All Day Event', 'No End Time', 'Contact ', 'Contact Email', 'Contact Phone', 'Location', 'Category', 'Registration', 'Maximum Seats', 'Last Date To Register']\n",
      "['10/5/13', '7:00 AM', '10/5/13', '8:00 AM', 'Parent Teacher Conference', 'Register for a one hour parent teacher conference. ', 'N', 'N', 'Chris Gallagher', 'cgallagher@schoolwires.com', '814-555-5179', 'Room 203', '2', 'Y', '1', '10/4/13']\n",
      "['10/5/13', '8:00 AM', '10/5/13', '9:00 AM', 'Parent Teacher Conference', 'Register for a one hour parent teacher conference. ', 'N', 'N', 'Chris Gallagher', 'cgallagher@schoolwires.com', '814-555-5179', 'Room 203', '2', 'Y', '1', '10/4/13']\n",
      "['10/5/13', '9:00 AM', '10/5/13', '10:00 AM', 'Parent Teacher Conference', 'Register for a one hour parent teacher conference. ', 'N', 'N', 'Chris Gallagher', 'cgallagher@schoolwires.com', '814-555-5179', 'Room 203', '2', 'Y', '1', '10/4/13']\n",
      "['10/5/13', '10:00 AM', '10/5/13', '11:00 AM', 'Parent Teacher Conference', 'Register for a one hour parent teacher conference. ', 'N', 'N', 'Chris Gallagher', 'cgallagher@schoolwires.com', '814-555-5179', 'Room 203', '2', 'Y', '1', '10/4/13']\n",
      "['10/5/13', '11:00 AM', '10/5/13', '12:00 PM', 'Parent Teacher Conference', 'Register for a one hour parent teacher conference. ', 'N', 'N', 'Chris Gallagher', 'cgallagher@schoolwires.com', '814-555-5179', 'Room 203', '2', 'Y', '1', '10/4/13']\n",
      "['10/5/13', '12:00 PM', '10/5/13', '1:00 PM', 'Parent Teacher Conference', 'Register for a one hour parent teacher conference. ', 'N', 'N', 'Chris Gallagher', 'cgallagher@schoolwires.com', '814-555-5179', 'Room 203', '2', 'Y', '1', '10/4/13']\n",
      "['10/5/13', '1:00 PM', '10/5/13', '2:00 PM', 'Parent Teacher Conference', 'Register for a one hour parent teacher conference. ', 'N', 'N', 'Chris Gallagher', 'cgallagher@schoolwires.com', '814-555-5179', 'Room 203', '2', 'Y', '1', '10/4/13']\n",
      "['10/5/13', '2:00 PM', '10/5/13', '3:00 PM', 'Parent Teacher Conference', 'Register for a one hour parent teacher conference. ', 'N', 'N', 'Chris Gallagher', 'cgallagher@schoolwires.com', '814-555-5179', 'Room 203', '2', 'Y', '1', '10/4/13']\n",
      "['10/5/13', '3:00 PM', '10/5/13', '4:00 PM', 'Parent Teacher Conference', 'Register for a one hour parent teacher conference. ', 'N', 'N', 'Chris Gallagher', 'cgallagher@schoolwires.com', '814-555-5179', 'Room 203', '2', 'Y', '1', '10/4/13']\n",
      "['10/5/13', '4:00 PM', '10/5/13', '5:00 PM', 'Parent Teacher Conference', 'Register for a one hour parent teacher conference. ', 'N', 'N', 'Chris Gallagher', 'cgallagher@schoolwires.com', '814-555-5179', 'Room 203', '2', 'Y', '1', '10/4/13']\n",
      "['10/5/13', '5:00 PM', '10/5/13', '6:00 PM', 'Parent Teacher Conference', 'Register for a one hour parent teacher conference. ', 'N', 'N', 'Chris Gallagher', 'cgallagher@schoolwires.com', '814-555-5179', 'Room 203', '2', 'Y', '1', '10/4/13']\n",
      "['10/5/13', '6:00 PM', '10/5/13', '7:00 PM', 'Parent Teacher Conference', 'Register for a one hour parent teacher conference. ', 'N', 'N', 'Chris Gallagher', 'cgallagher@schoolwires.com', '814-555-5179', 'Room 203', '2', 'Y', '1', '10/4/13']\n"
     ]
    }
   ],
   "source": [
    "import csv\n",
    "\n",
    "with open('./_files/ParentTeacher.csv') as csv_file:\n",
    "    csv_reader = csv.reader(csv_file)\n",
    "    \n",
    "    for line in csv_reader:\n",
    "        print(line)"
   ]
  },
  {
   "cell_type": "markdown",
   "metadata": {
    "pycharm": {
     "metadata": false
    }
   },
   "source": [
    "Moving the csv into a list:\n"
   ]
  },
  {
   "cell_type": "code",
   "execution_count": 4,
   "metadata": {
    "ExecuteTime": {
     "end_time": "2020-02-29T02:26:22.155175Z",
     "start_time": "2020-02-29T02:26:22.148931Z"
    },
    "pycharm": {
     "is_executing": false,
     "metadata": false,
     "name": "#%%\n"
    }
   },
   "outputs": [
    {
     "name": "stdout",
     "output_type": "stream",
     "text": [
      "[['Start Date ', 'Start Time', 'End Date', 'End Time', 'Event Title ', 'Event Description', 'All Day Event', 'No End Time', 'Contact ', 'Contact Email', 'Contact Phone', 'Location', 'Category', 'Registration', 'Maximum Seats', 'Last Date To Register'], ['10/5/13', '7:00 AM', '10/5/13', '8:00 AM', 'Parent Teacher Conference', 'Register for a one hour parent teacher conference. ', 'N', 'N', 'Chris Gallagher', 'cgallagher@schoolwires.com', '814-555-5179', 'Room 203', '2', 'Y', '1', '10/4/13'], ['10/5/13', '8:00 AM', '10/5/13', '9:00 AM', 'Parent Teacher Conference', 'Register for a one hour parent teacher conference. ', 'N', 'N', 'Chris Gallagher', 'cgallagher@schoolwires.com', '814-555-5179', 'Room 203', '2', 'Y', '1', '10/4/13'], ['10/5/13', '9:00 AM', '10/5/13', '10:00 AM', 'Parent Teacher Conference', 'Register for a one hour parent teacher conference. ', 'N', 'N', 'Chris Gallagher', 'cgallagher@schoolwires.com', '814-555-5179', 'Room 203', '2', 'Y', '1', '10/4/13'], ['10/5/13', '10:00 AM', '10/5/13', '11:00 AM', 'Parent Teacher Conference', 'Register for a one hour parent teacher conference. ', 'N', 'N', 'Chris Gallagher', 'cgallagher@schoolwires.com', '814-555-5179', 'Room 203', '2', 'Y', '1', '10/4/13'], ['10/5/13', '11:00 AM', '10/5/13', '12:00 PM', 'Parent Teacher Conference', 'Register for a one hour parent teacher conference. ', 'N', 'N', 'Chris Gallagher', 'cgallagher@schoolwires.com', '814-555-5179', 'Room 203', '2', 'Y', '1', '10/4/13'], ['10/5/13', '12:00 PM', '10/5/13', '1:00 PM', 'Parent Teacher Conference', 'Register for a one hour parent teacher conference. ', 'N', 'N', 'Chris Gallagher', 'cgallagher@schoolwires.com', '814-555-5179', 'Room 203', '2', 'Y', '1', '10/4/13'], ['10/5/13', '1:00 PM', '10/5/13', '2:00 PM', 'Parent Teacher Conference', 'Register for a one hour parent teacher conference. ', 'N', 'N', 'Chris Gallagher', 'cgallagher@schoolwires.com', '814-555-5179', 'Room 203', '2', 'Y', '1', '10/4/13'], ['10/5/13', '2:00 PM', '10/5/13', '3:00 PM', 'Parent Teacher Conference', 'Register for a one hour parent teacher conference. ', 'N', 'N', 'Chris Gallagher', 'cgallagher@schoolwires.com', '814-555-5179', 'Room 203', '2', 'Y', '1', '10/4/13'], ['10/5/13', '3:00 PM', '10/5/13', '4:00 PM', 'Parent Teacher Conference', 'Register for a one hour parent teacher conference. ', 'N', 'N', 'Chris Gallagher', 'cgallagher@schoolwires.com', '814-555-5179', 'Room 203', '2', 'Y', '1', '10/4/13'], ['10/5/13', '4:00 PM', '10/5/13', '5:00 PM', 'Parent Teacher Conference', 'Register for a one hour parent teacher conference. ', 'N', 'N', 'Chris Gallagher', 'cgallagher@schoolwires.com', '814-555-5179', 'Room 203', '2', 'Y', '1', '10/4/13'], ['10/5/13', '5:00 PM', '10/5/13', '6:00 PM', 'Parent Teacher Conference', 'Register for a one hour parent teacher conference. ', 'N', 'N', 'Chris Gallagher', 'cgallagher@schoolwires.com', '814-555-5179', 'Room 203', '2', 'Y', '1', '10/4/13'], ['10/5/13', '6:00 PM', '10/5/13', '7:00 PM', 'Parent Teacher Conference', 'Register for a one hour parent teacher conference. ', 'N', 'N', 'Chris Gallagher', 'cgallagher@schoolwires.com', '814-555-5179', 'Room 203', '2', 'Y', '1', '10/4/13']]\n"
     ]
    }
   ],
   "source": [
    "with open('./_files/ParentTeacher.csv') as csv_file:\n",
    "    csv_reader2 = csv.reader(csv_file)\n",
    "    \n",
    "#create a blank list\n",
    "    blank_list = []\n",
    "\n",
    "    #Creating a loop, for every line within csv_reader\n",
    "    for line in csv_reader2:\n",
    "        #append each line to the blank_list\n",
    "        blank_list.append(line)\n",
    "\n",
    "    #print the new list (Issue nested list)\n",
    "    print(blank_list)\n",
    "    "
   ]
  },
  {
   "cell_type": "markdown",
   "metadata": {
    "pycharm": {
     "metadata": false
    }
   },
   "source": [
    "Remove Nested list:"
   ]
  },
  {
   "cell_type": "code",
   "execution_count": 5,
   "metadata": {
    "ExecuteTime": {
     "end_time": "2020-02-29T02:26:57.059532Z",
     "start_time": "2020-02-29T02:26:57.056285Z"
    },
    "pycharm": {
     "is_executing": false,
     "metadata": false,
     "name": "#%%\n"
    }
   },
   "outputs": [
    {
     "name": "stdout",
     "output_type": "stream",
     "text": [
      "['Start Date ', 'Start Time', 'End Date', 'End Time', 'Event Title ', 'Event Description', 'All Day Event', 'No End Time', 'Contact ', 'Contact Email', 'Contact Phone', 'Location', 'Category', 'Registration', 'Maximum Seats', 'Last Date To Register']\n"
     ]
    }
   ],
   "source": [
    "print(blank_list[0])\n"
   ]
  },
  {
   "cell_type": "markdown",
   "metadata": {
    "pycharm": {
     "metadata": false
    }
   },
   "source": [
    "Learn how to call individual data within the list:"
   ]
  },
  {
   "cell_type": "code",
   "execution_count": 6,
   "metadata": {
    "ExecuteTime": {
     "end_time": "2020-02-29T02:27:33.758933Z",
     "start_time": "2020-02-29T02:27:33.754899Z"
    },
    "pycharm": {
     "is_executing": false,
     "metadata": false,
     "name": "#%%\n"
    }
   },
   "outputs": [
    {
     "name": "stdout",
     "output_type": "stream",
     "text": [
      "Start Time\n"
     ]
    }
   ],
   "source": [
    "print(blank_list[0][1])\n"
   ]
  },
  {
   "cell_type": "markdown",
   "metadata": {
    "pycharm": {
     "metadata": false
    }
   },
   "source": [
    "Learn how to call a range of data within the list:"
   ]
  },
  {
   "cell_type": "code",
   "execution_count": 7,
   "metadata": {
    "ExecuteTime": {
     "end_time": "2020-02-29T02:28:39.572501Z",
     "start_time": "2020-02-29T02:28:39.569423Z"
    },
    "pycharm": {
     "is_executing": false,
     "metadata": false,
     "name": "#%%\n"
    }
   },
   "outputs": [
    {
     "name": "stdout",
     "output_type": "stream",
     "text": [
      "['Start Date ', 'Start Time', 'End Date', 'End Time', 'Event Title ', 'Event Description', 'All Day Event', 'No End Time', 'Contact ', 'Contact Email', 'Contact Phone', 'Location', 'Category', 'Registration', 'Maximum Seats']\n"
     ]
    }
   ],
   "source": [
    "print(blank_list[0][:15])\n",
    "\n"
   ]
  },
  {
   "cell_type": "code",
   "execution_count": null,
   "metadata": {},
   "outputs": [],
   "source": []
  }
 ],
 "metadata": {
  "hide_input": false,
  "kernelspec": {
   "display_name": "Python 3",
   "language": "python",
   "name": "python3"
  },
  "language_info": {
   "codemirror_mode": {
    "name": "ipython",
    "version": 3
   },
   "file_extension": ".py",
   "mimetype": "text/x-python",
   "name": "python",
   "nbconvert_exporter": "python",
   "pygments_lexer": "ipython3",
   "version": "3.7.3"
  },
  "stem_cell": {
   "cell_type": "raw",
   "metadata": {
    "pycharm": {
     "metadata": false
    }
   },
   "source": ""
  }
 },
 "nbformat": 4,
 "nbformat_minor": 1
}
